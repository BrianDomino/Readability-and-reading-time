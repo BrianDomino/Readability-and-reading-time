{
 "cells": [
  {
   "cell_type": "code",
   "execution_count": null,
   "metadata": {},
   "outputs": [],
   "source": [
    "import urllib.request\n",
    "from bs4 import BeautifulSoup\n",
    "import spacy\n",
    "from spacy_readability import Readability\n",
    "\n",
    "nlp = spacy.load('en')\n",
    "nlp.add_pipe(Readability())"
   ]
  },
  {
   "cell_type": "code",
   "execution_count": null,
   "metadata": {},
   "outputs": [],
   "source": [
    "while True:\n",
    "    try:\n",
    "        print(\"Enter URL of reading: \")\n",
    "        url = input()\n",
    "        urllib.request.urlretrieve(url, \"scratch.txt\")\n",
    "        break\n",
    "    except ValueError:\n",
    "        print(\"Not a valid URL. Try Again\")"
   ]
  },
  {
   "cell_type": "code",
   "execution_count": null,
   "metadata": {},
   "outputs": [],
   "source": [
    "with open('scratch.txt') as f:\n",
    "     data = f.read()\n",
    "cleaned_file = BeautifulSoup(data, 'lxml').text"
   ]
  },
  {
   "cell_type": "code",
   "execution_count": null,
   "metadata": {},
   "outputs": [],
   "source": [
    "with open('cleaned reading.txt', 'w') as file:\n",
    "    file.write(cleaned_file)"
   ]
  },
  {
   "cell_type": "code",
   "execution_count": null,
   "metadata": {},
   "outputs": [],
   "source": [
    "print(\"Please manually clean the file: cleaned reading.txt. \\nWhen you're done, return here and run the next cell.\")"
   ]
  },
  {
   "cell_type": "code",
   "execution_count": null,
   "metadata": {},
   "outputs": [],
   "source": [
    "with open('cleaned reading.txt') as f:\n",
    "     reading_text = f.read()"
   ]
  },
  {
   "cell_type": "code",
   "execution_count": null,
   "metadata": {},
   "outputs": [],
   "source": [
    "reading_time = len(reading_text.split()) / 200\n",
    "doc = nlp(reading_text)\n",
    "print(\"Estimated reading time: {:.2f} minutes;\".format(reading_time), end = \" \")\n",
    "print(\"approximate US grade level: {:.2f} (what's this?).\".format(doc._.automated_readability_index))"
   ]
  },
  {
   "cell_type": "code",
   "execution_count": null,
   "metadata": {},
   "outputs": [],
   "source": []
  }
 ],
 "metadata": {
  "kernelspec": {
   "display_name": "Python 3",
   "language": "python",
   "name": "python3"
  },
  "language_info": {
   "codemirror_mode": {
    "name": "ipython",
    "version": 3
   },
   "file_extension": ".py",
   "mimetype": "text/x-python",
   "name": "python",
   "nbconvert_exporter": "python",
   "pygments_lexer": "ipython3",
   "version": "3.7.6"
  }
 },
 "nbformat": 4,
 "nbformat_minor": 4
}
